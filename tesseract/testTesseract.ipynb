{
 "cells": [
  {
   "cell_type": "code",
   "execution_count": 1,
   "metadata": {},
   "outputs": [],
   "source": [
    "import pytesseract\n",
    "from PIL import Image"
   ]
  },
  {
   "cell_type": "code",
   "execution_count": 2,
   "metadata": {},
   "outputs": [],
   "source": [
    "image_path = \"/home/ubuntu/SonND/TestOCR/Data/2.jpg\"  # Thay đổi đường dẫn ảnh\n",
    "image = Image.open(image_path)"
   ]
  },
  {
   "cell_type": "code",
   "execution_count": 3,
   "metadata": {},
   "outputs": [
    {
     "name": "stdout",
     "output_type": "stream",
     "text": [
      "§ach hoc tiéng Anh danh cho\n",
      "\n",
      "Ding kem voi 2 bang cassette\n",
      "\n",
      "Bien dich!\n",
      "{lé Huy Tam] - [Pham Van Sang\n",
      "\n",
      "H\n",
      "\n",
      "NHA\n",
      "\n"
     ]
    }
   ],
   "source": [
    "# Nhận diện tiếng Anh (mặc định)\n",
    "text = pytesseract.image_to_string(image)\n",
    "print(text)"
   ]
  },
  {
   "cell_type": "code",
   "execution_count": 4,
   "metadata": {},
   "outputs": [
    {
     "name": "stdout",
     "output_type": "stream",
     "text": [
      "đách học tiếng Ánh danh cho\n",
      "\n",
      "Dùng kèm với 2 băng cassette\n",
      "\n",
      "Ê¿z„ Á<<£ˆ\n",
      "[ Ruy Tãm| - Phạm Yăn Sáng\n",
      "\n",
      "H\n",
      "\n",
      "NHÀ\n",
      "\n"
     ]
    }
   ],
   "source": [
    "# Nhận diện tiếng Việt\n",
    "text_vie = pytesseract.image_to_string(image, lang='vie')\n",
    "print(text_vie)"
   ]
  }
 ],
 "metadata": {
  "kernelspec": {
   "display_name": "SonND",
   "language": "python",
   "name": "python3"
  },
  "language_info": {
   "codemirror_mode": {
    "name": "ipython",
    "version": 3
   },
   "file_extension": ".py",
   "mimetype": "text/x-python",
   "name": "python",
   "nbconvert_exporter": "python",
   "pygments_lexer": "ipython3",
   "version": "3.9.21"
  }
 },
 "nbformat": 4,
 "nbformat_minor": 2
}
