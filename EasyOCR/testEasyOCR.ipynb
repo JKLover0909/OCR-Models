{
 "cells": [
  {
   "cell_type": "code",
   "execution_count": 1,
   "metadata": {},
   "outputs": [],
   "source": [
    "import easyocr\n",
    "import time"
   ]
  },
  {
   "cell_type": "code",
   "execution_count": 3,
   "metadata": {},
   "outputs": [
    {
     "name": "stdout",
     "output_type": "stream",
     "text": [
      "EasyOCR:\n",
      "Sách  học\n",
      "Anh   dành  cho\n",
      "Inhungnguoi di_học Ttập_và]\n",
      "Côngtác \" nưóc ngoài]\n",
      "Ulnh dàm thoail\n",
      "Eheo hhuong hhảh\n",
      "tôc\n",
      "Dùng_kèm\n",
      "vói 2 bãng cassette\n",
      "B:ên F\n",
      "[Lê\n",
      "Lâm\n",
      "Phạm_Yăn\n",
      "NHÀ XUẤT BẢN THÀNH PHỐ HỔ_CHÍ MINH\n",
      "tiếng\n",
      "gíểng\n",
      "cấp\n",
      "Sáng\n",
      "Huy\n",
      "Thời gian trả kết quả: 0.96 giây\n",
      "\n"
     ]
    }
   ],
   "source": [
    "# Đường dẫn đến hình ảnh cần nhận diện\n",
    "image_path = '/home/ubuntu/SonND/TestOCR/Data/2.jpg'\n",
    "\n",
    "# Khởi tạo mô hình EasyOCR\n",
    "reader = easyocr.Reader(['en', 'vi'])  # Thêm các ngôn ngữ bạn muốn nhận diện\n",
    "\n",
    "# Đo thời gian bắt đầu\n",
    "start_time = time.time()\n",
    "\n",
    "# Nhận diện văn bản từ hình ảnh\n",
    "result = reader.readtext(image_path)\n",
    "\n",
    "# Đo thời gian kết thúc\n",
    "end_time = time.time()\n",
    "easyocr_time = end_time - start_time\n",
    "\n",
    "# In kết quả nhận diện\n",
    "text_easyocr = '\\n'.join([line[1] for line in result])\n",
    "print(\"EasyOCR:\")\n",
    "print(text_easyocr)\n",
    "print(f\"Thời gian trả kết quả: {easyocr_time:.2f} giây\\n\")"
   ]
  }
 ],
 "metadata": {
  "kernelspec": {
   "display_name": "SonND",
   "language": "python",
   "name": "python3"
  },
  "language_info": {
   "codemirror_mode": {
    "name": "ipython",
    "version": 3
   },
   "file_extension": ".py",
   "mimetype": "text/x-python",
   "name": "python",
   "nbconvert_exporter": "python",
   "pygments_lexer": "ipython3",
   "version": "3.9.21"
  }
 },
 "nbformat": 4,
 "nbformat_minor": 2
}
